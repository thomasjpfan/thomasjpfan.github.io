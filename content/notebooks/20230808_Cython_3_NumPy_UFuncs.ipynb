{
 "cells": [
  {
   "cell_type": "markdown",
   "id": "1eda174c-2894-4e7a-8e82-c17565ada3f8",
   "metadata": {},
   "source": [
    "# Quick NumPy UFuncs with Cython 3.0"
   ]
  },
  {
   "cell_type": "code",
   "execution_count": 1,
   "id": "bc300cdb-3f8c-432e-9322-8086a7e25830",
   "metadata": {},
   "outputs": [],
   "source": [
    "# Install dependencies for google colab\n",
    "import sys\n",
    "IN_COLAB = 'google.colab' in sys.modules\n",
    "if IN_COLAB:\n",
    "    %pip install Cython==3.0"
   ]
  },
  {
   "cell_type": "code",
   "execution_count": 2,
   "id": "f6233d5c",
   "metadata": {},
   "outputs": [],
   "source": [
    "%load_ext Cython"
   ]
  },
  {
   "cell_type": "markdown",
   "id": "2775ed68-94b2-4aa6-927d-ce3e5321915b",
   "metadata": {},
   "source": [
    "Cython 3.0 was finally released on [July 17, 2023](https://pypi.org/project/Cython/#history) and it comes with [many features](https://docs.cython.org/en/latest/src/changes.html). There are many exciting features such as a [Pure Python Mode](https://cython.readthedocs.io/en/latest/src/tutorial/pure.html#pure-python-mode) and [Initial support for Python's Limited API](https://docs.cython.org/en/latest/src/changes.html#initial-support-for-limited-api). In this blog post, we use Cython 3.0's `@cython.ufunc` decorator to quickly generate a [NumPy Universal function](https://numpy.org/doc/stable/reference/ufuncs.html) (UFunc) for [fused multiply-add](https://en.cppreference.com/w/cpp/numeric/math/fma) (fma). This blog post is available as a [notebook on Google Colab](https://colab.research.google.com/github/thomasjpfan/thomasjpfan.github.io/blob/main/content/notebooks/20230808_Cython_3_NumPy_UFuncs.ipynb)."
   ]
  },
  {
   "cell_type": "markdown",
   "id": "7edd73c3",
   "metadata": {},
   "source": [
    "## Fused Multiply-Add and UFuncs\n",
    "\n",
    "Fused multiply-add computes `(x * y) + z` as if to infinite precision and rounded once to fit the return type. As of writing, `fma` is part of the C99 standard, but not in NumPy. With Cython 3.0, we can quickly generate a UFunc for `fma`:"
   ]
  },
  {
   "cell_type": "code",
   "execution_count": 3,
   "id": "6e290269",
   "metadata": {},
   "outputs": [],
   "source": [
    "import numpy as np\n",
    "np_include = np.get_include()"
   ]
  },
  {
   "cell_type": "code",
   "execution_count": 4,
   "id": "5b92e75d",
   "metadata": {},
   "outputs": [],
   "source": [
    "%%cython -I$np_include\n",
    "cimport cython\n",
    "from libc.math cimport fma\n",
    "\n",
    "@cython.ufunc\n",
    "cdef double fma_ufunc(double x, double y, double z) nogil:\n",
    "    return fma(x, y, z)"
   ]
  },
  {
   "cell_type": "markdown",
   "id": "d09de2d3",
   "metadata": {},
   "source": [
    "With only a `@cython.ufunc` decorator, we get a function that operates on NumPy arrays:"
   ]
  },
  {
   "cell_type": "code",
   "execution_count": 5,
   "id": "c959c0fd",
   "metadata": {},
   "outputs": [
    {
     "data": {
      "text/plain": [
       "array([ 2.5, 19. ])"
      ]
     },
     "execution_count": 5,
     "metadata": {},
     "output_type": "execute_result"
    }
   ],
   "source": [
    "import numpy as np\n",
    "\n",
    "a = np.array([1.0, 2.0])\n",
    "b = np.array([4.5, 8.0])\n",
    "c = np.array([-2.0, 3.0])\n",
    "fma_ufunc(a, b, c)"
   ]
  },
  {
   "cell_type": "markdown",
   "id": "fea184bf",
   "metadata": {},
   "source": [
    "Since `fma_ufunc` is a UFunc, it has broadcasting out of the box! In the following example, `a` has shape `(2,)` and `b_column` has shape `(1, 2)`, so the resulting matrix follows [NumPy's broadcasting rules](https://numpy.org/doc/stable/user/basics.broadcasting.html) to return an array of shape `(2, 2)`."
   ]
  },
  {
   "cell_type": "code",
   "execution_count": 6,
   "id": "dcf10f22",
   "metadata": {},
   "outputs": [
    {
     "data": {
      "text/plain": [
       "array([[ -0.5,   3.5],\n",
       "       [ -7.5, -10.5]])"
      ]
     },
     "execution_count": 6,
     "metadata": {},
     "output_type": "execute_result"
    }
   ],
   "source": [
    "b_column = np.array([[4.0], [-3.0]])\n",
    "fma_ufunc(a, b_column, -4.5)"
   ]
  },
  {
   "cell_type": "markdown",
   "id": "5f17f9cf",
   "metadata": {},
   "source": [
    "Moreover, NumPy's UFunc allows us to specific an output array to place the results in with the `out` keyword argument:"
   ]
  },
  {
   "cell_type": "code",
   "execution_count": 7,
   "id": "0f8ac9bd",
   "metadata": {},
   "outputs": [
    {
     "data": {
      "text/plain": [
       "array([[ -0.5,   3.5],\n",
       "       [ -7.5, -10.5]])"
      ]
     },
     "execution_count": 7,
     "metadata": {},
     "output_type": "execute_result"
    }
   ],
   "source": [
    "out = np.empty((2, 2))\n",
    "fma_ufunc(a, b_column, -4.5, out=out)\n",
    "out"
   ]
  },
  {
   "cell_type": "markdown",
   "id": "0bee9c84",
   "metadata": {},
   "source": [
    "Depending on the use case, the `out` keyword argument can help with reducing the peak memory usage of your program."
   ]
  },
  {
   "cell_type": "markdown",
   "id": "8ab6a6f2",
   "metadata": {},
   "source": [
    "## Supporting Floats and Doubles\n",
    "\n",
    "`C99` defines a fused multiple-add for single and double precision floating point numbers. We use Cython's [Fused Types](https://docs.cython.org/en/latest/src/userguide/fusedtypes.html) to extend our UFunc to single precision floats:"
   ]
  },
  {
   "cell_type": "code",
   "execution_count": 10,
   "id": "7d769a8b",
   "metadata": {},
   "outputs": [],
   "source": [
    "%%cython -I$np_include\n",
    "cimport cython\n",
    "from cython cimport floating\n",
    "from libc.math cimport fma, fmaf\n",
    "\n",
    "@cython.ufunc\n",
    "cdef floating fma_fused_ufunc(floating x, floating y, floating z) nogil:\n",
    "    if floating is double:\n",
    "        return fma(x, y, z)\n",
    "    else:  # floating is float in this case\n",
    "        return fmaf(x, y, z)"
   ]
  },
  {
   "cell_type": "markdown",
   "id": "68a5ad4b",
   "metadata": {},
   "source": [
    "The `floating` fused type consist of single and double precision types, which we use to call the corresponding version of fused multiply-add from `C`. When all the input arrays are `float32`, then the resulting array is also `float32`:"
   ]
  },
  {
   "cell_type": "code",
   "execution_count": 11,
   "id": "41547e34",
   "metadata": {},
   "outputs": [
    {
     "data": {
      "text/plain": [
       "array([ 2.5, 19. ], dtype=float32)"
      ]
     },
     "execution_count": 11,
     "metadata": {},
     "output_type": "execute_result"
    }
   ],
   "source": [
    "a = np.array([1.0, 2.0], dtype=np.float32)\n",
    "b = np.array([4.5, 8.0], dtype=np.float32)\n",
    "c = np.array([-2.0, 3.0], dtype=np.float32)\n",
    "\n",
    "fma_fused_ufunc(a, b, c)"
   ]
  },
  {
   "cell_type": "markdown",
   "id": "b9e38ef7",
   "metadata": {},
   "source": [
    "## Conclusion\n",
    "\n",
    "An alternative approach is Numba's [@vectorize](https://numba.readthedocs.io/en/stable/user/vectorize.html) decorator, which provides a Just in Time compiled UFunc. On the other hand, Cython provides a Ahead of Time compiled solution using the `@cython.ufunc` decorator to create a NumPy UFunc. In either case, you can make use of many UFunc's [features](https://numpy.org/doc/stable/reference/ufuncs.html#optional-keyword-arguments) such as array broadcasting or specifying an output array with the `out` keyword argument."
   ]
  }
 ],
 "metadata": {
  "kernelspec": {
   "display_name": "cython-3.0",
   "language": "python",
   "name": "python3"
  },
  "language_info": {
   "codemirror_mode": {
    "name": "ipython",
    "version": 3
   },
   "file_extension": ".py",
   "mimetype": "text/x-python",
   "name": "python",
   "nbconvert_exporter": "python",
   "pygments_lexer": "ipython3",
   "version": "3.11.4"
  }
 },
 "nbformat": 4,
 "nbformat_minor": 5
}
