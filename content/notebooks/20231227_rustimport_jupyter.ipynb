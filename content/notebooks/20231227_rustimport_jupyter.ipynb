{
 "cells": [
  {
   "cell_type": "markdown",
   "metadata": {},
   "source": [
    "# Python Extensions in Rust with Jupyter Notebooks"
   ]
  },
  {
   "cell_type": "code",
   "execution_count": 1,
   "metadata": {},
   "outputs": [],
   "source": [
    "# Install dependencies for google colab\n",
    "import os\n",
    "import sys\n",
    "\n",
    "IN_COLAB = \"google.colab\" in sys.modules\n",
    "if IN_COLAB:\n",
    "    %pip install rustimport_jupyter polars==0.20.2\n",
    "    !curl --proto '=https' --tlsv1.2 -sSf https://sh.rustup.rs | sh -s -- -y\n",
    "    os.environ[\"PATH\"] += \":/root/.cargo/bin\""
   ]
  },
  {
   "cell_type": "markdown",
   "metadata": {},
   "source": [
    "The Rust programming language has gotten more prominent for writing compiled Python extensions. Currently, there is a bunch of boilerplate for wrapping writing up a Rust function and making it callable from Python. I enjoy exploring and prototyping code in Jupyter Notebooks, so I developed [rustimport_jupyter](https://github.com/thomasjpfan/rustimport_jupyter) to compile Rust code in Jupyter and have the compiled code available in Python! In this blog post, I will showcase a simple function, NumPy function, and Polar expression plugins. This blog post is runnable as a [notebook on Google Colab](https://colab.research.google.com/github/thomasjpfan/thomasjpfan.github.io/blob/main/content/notebooks/20231227_rustimport_jupyter.ipynb)."
   ]
  },
  {
   "cell_type": "markdown",
   "metadata": {},
   "source": [
    "## Simple Rust Functions\n",
    "\n",
    "`rustimport_jupyter` builds on top of [rustimport](https://github.com/mityax/rustimport) to compile Python extensions written in Rust from Jupyter notebooks. After installing the [rustimport_jupyter](https://pypi.org/project/rustimport-jupyter/) package from PyPI, we load the magic from within a Jupyter notebook:"
   ]
  },
  {
   "cell_type": "code",
   "execution_count": 2,
   "metadata": {},
   "outputs": [],
   "source": [
    "%load_ext rustimport_jupyter"
   ]
  },
  {
   "cell_type": "markdown",
   "metadata": {},
   "source": [
    "Next, we define a `double` function in Rust and prefixing the cell with the `%%rustimport` marker:"
   ]
  },
  {
   "cell_type": "code",
   "execution_count": 3,
   "metadata": {},
   "outputs": [],
   "source": [
    "%%rustimport\n",
    "use pyo3::prelude::*;\n",
    "\n",
    "#[pyfunction]\n",
    "fn double(x: i32) -> i32 {\n",
    "    2 * x\n",
    "}"
   ]
  },
  {
   "cell_type": "markdown",
   "metadata": {},
   "source": [
    "The `%%rustimport` marker compiles the Rust code and imports the `double` function into the Jupyter notebook environment. This means, we can directly call it from Python!"
   ]
  },
  {
   "cell_type": "code",
   "execution_count": 4,
   "metadata": {},
   "outputs": [
    {
     "data": {
      "text/plain": [
       "68"
      ]
     },
     "execution_count": 4,
     "metadata": {},
     "output_type": "execute_result"
    }
   ],
   "source": [
    "double(34)"
   ]
  },
  {
   "cell_type": "markdown",
   "metadata": {},
   "source": [
    "By default, `%%rustimport` is compiles without Rust optimizations. We can enable these optimizations by adding the `--release` flag:"
   ]
  },
  {
   "cell_type": "code",
   "execution_count": 5,
   "metadata": {},
   "outputs": [],
   "source": [
    "%%rustimport --release\n",
    "use pyo3::prelude::*;\n",
    "\n",
    "#[pyfunction]\n",
    "fn triple(x: i32) -> i32 {\n",
    "    3 * x\n",
    "}"
   ]
  },
  {
   "cell_type": "code",
   "execution_count": 6,
   "metadata": {},
   "outputs": [
    {
     "data": {
      "text/plain": [
       "21"
      ]
     },
     "execution_count": 6,
     "metadata": {},
     "output_type": "execute_result"
    }
   ],
   "source": [
    "triple(7)"
   ]
  },
  {
   "cell_type": "markdown",
   "metadata": {},
   "source": [
    "## NumPy in Rust\n",
    "\n",
    "Rust's ecosystem contains many [third party libraries](https://crates.io) that is useful for writing our custom functions. [rustimport](https://github.com/mityax/rustimport#customizing-an-extension) defines a custom `//:` comment syntax that we can use to pull in write our extensions. In this next example, we use [PyO3/rust-numpy](https://github.com/PyO3/rust-numpy) to define a NumPy function that computes `a*x-y` in Rust:"
   ]
  },
  {
   "cell_type": "code",
   "execution_count": 7,
   "metadata": {},
   "outputs": [],
   "source": [
    "%%rustimport --release\n",
    "//: [dependencies]\n",
    "//: pyo3 = { version = \"0.20\", features = [\"extension-module\"] }\n",
    "//: numpy = \"0.20\"\n",
    "\n",
    "use pyo3::prelude::*;\n",
    "use numpy::ndarray::{ArrayD, ArrayViewD};\n",
    "use numpy::{IntoPyArray, PyArrayDyn, PyReadonlyArrayDyn};\n",
    "\n",
    "fn axsy(a: f64, x: ArrayViewD<'_, f64>, y: ArrayViewD<'_, f64>) -> ArrayD<f64> {\n",
    "    a * &x - &y\n",
    "}\n",
    "\n",
    "#[pyfunction]\n",
    "#[pyo3(name = \"axsy\")]\n",
    "fn axsy_py<'py>(\n",
    "    py: Python<'py>,\n",
    "    a: f64,\n",
    "    x: PyReadonlyArrayDyn<'py, f64>,\n",
    "    y: PyReadonlyArrayDyn<'py, f64>,\n",
    ") -> &'py PyArrayDyn<f64> {\n",
    "    let x = x.as_array();\n",
    "    let y = y.as_array();\n",
    "    let z = axsy(a, x, y);\n",
    "    z.into_pyarray(py)\n",
    "}"
   ]
  },
  {
   "cell_type": "markdown",
   "metadata": {},
   "source": [
    "The `pyo3(name = \"axsy\")` Rust macro exports the compiled function as `axsy` in Python. We can now use `axsy` directly in Jupyter:"
   ]
  },
  {
   "cell_type": "code",
   "execution_count": 8,
   "metadata": {},
   "outputs": [
    {
     "data": {
      "text/plain": [
       "array([ 0.3, -8.2,  5.6])"
      ]
     },
     "execution_count": 8,
     "metadata": {},
     "output_type": "execute_result"
    }
   ],
   "source": [
    "import numpy as np\n",
    "\n",
    "a = 2.4\n",
    "x = np.array([1.0, -3.0, 4.0], dtype=np.float64)\n",
    "y = np.array([2.1, 1.0, 4.0], dtype=np.float64)\n",
    "\n",
    "axsy(a, x, y)"
   ]
  },
  {
   "cell_type": "markdown",
   "metadata": {},
   "source": [
    "## Polars Expression Plugin\n",
    "\n",
    "Recently, Polars added support for [expression plugins](https://pola-rs.github.io/polars/user-guide/expressions/plugins/) to create user defined functions. With `rustimport_jupyter`, we can prototype quickly on an Polars expression directly in Jupyter! In this example, we compile a pig-laten expression as seen in [Polar's user guide](https://pola-rs.github.io/polars/user-guide/expressions/plugins/):"
   ]
  },
  {
   "cell_type": "code",
   "execution_count": 9,
   "metadata": {},
   "outputs": [],
   "source": [
    "%%rustimport --release --module-path-variable=polars_pig_latin_module\n",
    "//: [dependencies]\n",
    "//: polars = { version = \"*\" }\n",
    "//: pyo3 = { version = \"*\", features = [\"extension-module\"] }\n",
    "//: pyo3-polars = { version = \"0.9\", features = [\"derive\"] }\n",
    "//: serde = { version = \"*\", features = [\"derive\"] }\n",
    "\n",
    "use pyo3::prelude::*;\n",
    "use polars::prelude::*;\n",
    "use pyo3_polars::derive::polars_expr;\n",
    "use std::fmt::Write;\n",
    "\n",
    "fn pig_latin_str(value: &str, output: &mut String) {\n",
    "    if let Some(first_char) = value.chars().next() {\n",
    "        write!(output, \"{}{}ay\", &value[1..], first_char).unwrap()\n",
    "    }\n",
    "}\n",
    "\n",
    "#[polars_expr(output_type=Utf8)]\n",
    "fn pig_latinnify(inputs: &[Series]) -> PolarsResult<Series> {\n",
    "    let ca = inputs[0].utf8()?;\n",
    "    let out: Utf8Chunked = ca.apply_to_buffer(pig_latin_str);\n",
    "    Ok(out.into_series())\n",
    "}"
   ]
  },
  {
   "cell_type": "markdown",
   "metadata": {},
   "source": [
    "Note that we use `--module-path-variable=polars_pig_latin_module`, which saves the compiled module path as `polars_pig_latin_module`. With `polars_pig_latin_module` defined, we configure a `language` namespace for the Polars DataFrame:"
   ]
  },
  {
   "cell_type": "code",
   "execution_count": 10,
   "metadata": {},
   "outputs": [],
   "source": [
    "import polars as pl\n",
    "\n",
    "@pl.api.register_expr_namespace(\"language\")\n",
    "class Language:\n",
    "    def __init__(self, expr: pl.Expr):\n",
    "        self._expr = expr\n",
    "\n",
    "    def pig_latinnify(self) -> pl.Expr:\n",
    "        return self._expr.register_plugin(\n",
    "            lib=polars_pig_latin_module,\n",
    "            symbol=\"pig_latinnify\",\n",
    "            is_elementwise=True,\n",
    "        )"
   ]
  },
  {
   "cell_type": "markdown",
   "metadata": {},
   "source": [
    "With the `language` namepsace defined, we can now use it with Polars:"
   ]
  },
  {
   "cell_type": "code",
   "execution_count": 11,
   "metadata": {},
   "outputs": [
    {
     "name": "stdout",
     "output_type": "stream",
     "text": [
      "shape: (4, 2)\n",
      "┌─────────┬───────────┐\n",
      "│ convert ┆ pig_latin │\n",
      "│ ---     ┆ ---       │\n",
      "│ str     ┆ str       │\n",
      "╞═════════╪═══════════╡\n",
      "│ pig     ┆ igpay     │\n",
      "│ latin   ┆ atinlay   │\n",
      "│ is      ┆ siay      │\n",
      "│ silly   ┆ illysay   │\n",
      "└─────────┴───────────┘\n"
     ]
    }
   ],
   "source": [
    "df = pl.DataFrame(\n",
    "    {\n",
    "        \"convert\": [\"pig\", \"latin\", \"is\", \"silly\"],\n",
    "    }\n",
    ")\n",
    "\n",
    "out = df.with_columns(\n",
    "    pig_latin=pl.col(\"convert\").language.pig_latinnify(),\n",
    ")\n",
    "print(out)"
   ]
  },
  {
   "cell_type": "markdown",
   "metadata": {},
   "source": [
    "## Conclusion\n",
    "\n",
    "For those who like prototyping and exploring in Jupyter notebooks, [rustimport_jupyter](https://github.com/thomasjpfan/rustimport_jupyter) enables you to explore the Rust ecosystem while easily connecting it to your Python code. You can try out the library by installing it with: `pip install rustimport_jupyter` 🚀!"
   ]
  }
 ],
 "metadata": {
  "kernelspec": {
   "display_name": "rustimport-jupyter",
   "language": "python",
   "name": "python3"
  },
  "language_info": {
   "codemirror_mode": {
    "name": "ipython",
    "version": 3
   },
   "file_extension": ".py",
   "mimetype": "text/x-python",
   "name": "python",
   "nbconvert_exporter": "python",
   "pygments_lexer": "ipython3",
   "version": "3.11.7"
  }
 },
 "nbformat": 4,
 "nbformat_minor": 2
}
